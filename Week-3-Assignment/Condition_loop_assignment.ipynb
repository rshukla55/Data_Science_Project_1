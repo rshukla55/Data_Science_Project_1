{
 "cells": [
  {
   "cell_type": "code",
   "execution_count": 19,
   "id": "5eb091a7",
   "metadata": {},
   "outputs": [
    {
     "name": "stdout",
     "output_type": "stream",
     "text": [
      "Enter a number 8\n",
      "Eight\n",
      "Enter a number 7\n",
      "Seven\n",
      "Enter a number 5\n",
      "Five\n",
      "Enter a number 0\n",
      "Zero\n",
      "Enter a number 6\n",
      "Six\n",
      "Enter a number 2\n",
      "Two\n",
      "Enter a number 1\n",
      "One\n",
      "Enter a number 3\n",
      "Three\n",
      "Enter a number 9\n",
      "Nine\n",
      "Enter a number 89\n",
      "Number 89 is outside of the range\n"
     ]
    }
   ],
   "source": [
    "# Q. W. A P. which takes one number from 0 to 9 from the user and prints\n",
    "# it in the word. And if the word is not from 0 to 9 then\n",
    "# it should print that number is outside of the range and program should\n",
    "# exit.\n",
    "# For exapmple:-\n",
    "# input = 1\n",
    "# output = one\n",
    "num = int (input(\"Enter a number \"))\n",
    "while(True):\n",
    "    if(num==0):\n",
    "        print('Zero')\n",
    "        num = int (input(\"Enter a number \"))\n",
    "    elif(num==1):\n",
    "        print('One')\n",
    "        num = int (input(\"Enter a number \"))\n",
    "    elif(num==2):\n",
    "        print('Two')\n",
    "        num = int (input(\"Enter a number \"))\n",
    "    elif(num==3):\n",
    "        print('Three')\n",
    "        num = int (input(\"Enter a number \"))\n",
    "    elif(num==4):\n",
    "        print('Four')\n",
    "        num = int (input(\"Enter a number \"))\n",
    "    elif(num==5):\n",
    "        print('Five')\n",
    "        num = int (input(\"Enter a number \"))\n",
    "    elif(num==6):\n",
    "        print('Six')\n",
    "        num = int (input(\"Enter a number \"))\n",
    "    elif(num==7):\n",
    "        print('Seven')\n",
    "        num = int (input(\"Enter a number \"))\n",
    "    elif(num==8):\n",
    "        print('Eight')\n",
    "        num = int (input(\"Enter a number \"))\n",
    "    elif(num==9):\n",
    "        print('Nine')\n",
    "        num = int (input(\"Enter a number \"))\n",
    "    else:\n",
    "        print(f'Number {num} is outside of the range')\n",
    "        break"
   ]
  },
  {
   "cell_type": "code",
   "execution_count": 18,
   "id": "76091961",
   "metadata": {},
   "outputs": [
    {
     "name": "stdout",
     "output_type": "stream",
     "text": [
      "Enter first number 8\n",
      "Enter second number 7\n",
      "Please select any one operation from below:-\n",
      "    * To add enter 1\n",
      "    * to subtract enter 2\n",
      "    * To multiply enter 3\n",
      "    * To divide enter 4\n",
      "    * To divide and find quotient enter 5\n",
      "    * To divide and find remainder enter 6\n",
      "    * To divide and find num1 to the power of num2 enter 7\n",
      "    * To Come out of the program enter 8  8\n"
     ]
    }
   ],
   "source": [
    "# Q. W. A P. to implement calculator but the operation to be done and two\n",
    "# numbers will be taken as input from user:-\n",
    "# Operation console should show below:-\n",
    "# Please select any one operation from below:-\n",
    "# * To add enter 1\n",
    "# * to subtract enter 2\n",
    "# * To multiply enter 3\n",
    "# * To divide enter 4\n",
    "# * To divide and find quotient enter 5\n",
    "# * To divide and find remainder enter 6\n",
    "# * To divide and find num1 to the power of num2 enter 7\n",
    "# * To Come out of the program enter 8\n",
    "\n",
    "input_one= int(input(\"Enter first number \"))\n",
    "input_two= int(input(\"Enter second number \"))\n",
    "def takeOpInput():\n",
    "    return int(input('''Please select any one operation from below:-\n",
    "    * To add enter 1\n",
    "    * to subtract enter 2\n",
    "    * To multiply enter 3\n",
    "    * To divide enter 4\n",
    "    * To divide and find quotient enter 5\n",
    "    * To divide and find remainder enter 6\n",
    "    * To divide and find num1 to the power of num2 enter 7\n",
    "    * To Come out of the program enter 8  '''))\n",
    "\n",
    "op_input = takeOpInput()\n",
    "\n",
    "while(True):\n",
    "    if(op_input == 1):\n",
    "        print(input_one + input_two)\n",
    "        op_input = takeOpInput()\n",
    "    elif(op_input == 2):\n",
    "        print(input_one - input_two)\n",
    "        op_input = takeOpInput()\n",
    "    elif(op_input == 3):\n",
    "        print(input_one * input_two)\n",
    "        op_input = takeOpInput()\n",
    "    elif(op_input == 4):\n",
    "        print(input_one / input_two)\n",
    "        op_input = takeOpInput()\n",
    "    elif(op_input == 5):\n",
    "        print(input_one // input_two)\n",
    "        op_input = takeOpInput()\n",
    "    elif(op_input == 6):\n",
    "        print(input_one % input_two)\n",
    "        op_input = takeOpInput()\n",
    "    elif(op_input == 7):\n",
    "        print(input_one ** input_two)\n",
    "        op_input = takeOpInput()\n",
    "    elif(op_input == 8):\n",
    "        break"
   ]
  },
  {
   "cell_type": "code",
   "execution_count": 11,
   "id": "2d3a8a1b",
   "metadata": {},
   "outputs": [
    {
     "name": "stdout",
     "output_type": "stream",
     "text": [
      "Enter a year: 1900\n",
      "1900 is not a leap year\n"
     ]
    }
   ],
   "source": [
    "# Q. W A P to check whether a year entered by user is an leap year or not?\n",
    "# Check with below input:-\n",
    "# leap year:- 2012, 1968, 2004, 1200, 1600,2400\n",
    "# Non-lear year:- 1971, 2006, 1700,1800,1900\n",
    "\n",
    "year=int(input(\"Enter a year: \"))\n",
    "if((year % 4 == 0 and year % 100 != 0) or year % 400 == 0):\n",
    "    print(f'{year} is a leap year')\n",
    "else:\n",
    "    print(f'{year} is not a leap year')\n"
   ]
  },
  {
   "cell_type": "code",
   "execution_count": 13,
   "id": "a339ae7c",
   "metadata": {},
   "outputs": [
    {
     "name": "stdout",
     "output_type": "stream",
     "text": [
      "Accept a number: 78\n",
      "78 is an even number\n"
     ]
    }
   ],
   "source": [
    "# Q. W A P which takes one number from the user and checks whether it is\n",
    "# an even or odd number?, If it even then prints number is\n",
    "# even number else prints that number is odd number.\n",
    "\n",
    "num = int (input ('Accept a number: '))\n",
    "if(num % 2 == 0):\n",
    "    print(f'{num} is an even number')\n",
    "else :\n",
    "    print(f'{num} is an odd number')\n"
   ]
  },
  {
   "cell_type": "code",
   "execution_count": 26,
   "id": "183f290f",
   "metadata": {},
   "outputs": [
    {
     "name": "stdout",
     "output_type": "stream",
     "text": [
      "Enter num1: 8\n",
      "Enter num2: 7\n",
      "num1 is greater than num2\n",
      "num1 is greater than num2\n"
     ]
    }
   ],
   "source": [
    "# Q. W A P which takes two numbers from the user and prints below output:-\n",
    "#  1. num1 is greater than num2 if num1 is greater than num2\n",
    "#  2. num1 is smaller than num2 if num1 is smaller than num2\n",
    "#  3. num1 is equal to num2 if num1 and num2 are equal\n",
    "num1 = int(input(\"Enter num1: \"))\n",
    "num2 = int(input(\"Enter num2: \"))\n",
    "if(num1 > num2):\n",
    "    print(f\"num1 is greater than num2\")\n",
    "elif(num1 < num2):\n",
    "    print(f\"num1 is smaller than num2\")\n",
    "else:\n",
    "    print(f\"num1 is equal to num2\")\n",
    "    \n",
    "\n",
    "print_str = f\"num1 is greater than num2\" if num1 > num2 else f\"num1 is smaller than num2\" if num1 < num2 else f\"num1 is equal to num2\"\n",
    "print(print_str)"
   ]
  },
  {
   "cell_type": "code",
   "execution_count": 27,
   "id": "7aec1238",
   "metadata": {},
   "outputs": [
    {
     "name": "stdout",
     "output_type": "stream",
     "text": [
      "Enter first number: 8\n",
      "Enter second number: 9\n",
      "Enter third number: 4\n",
      "num2 is greater than num1 and num3\n",
      "num2 is greater than num1 and num3\n"
     ]
    }
   ],
   "source": [
    "# Q. W A P which takes three numbers from the user and prints below\n",
    "# output:-\n",
    "#  1. num1 is greater than num2 and num3 if num1 is greater than num2\n",
    "# and num3\n",
    "#  2. num2 is greater than num1 and num3 if num2 is greater than num1\n",
    "# and num3\n",
    "#  3. num3 is greater than num1 and num2 if num3 is greater than num1\n",
    "# and num2\n",
    "# Note:- 1. Do this problem using if - elif - else\n",
    "#  2. Do this using ternary operator\n",
    "\n",
    "num1 = int(input(\"Enter first number: \"))\n",
    "num2 = int(input(\"Enter second number: \"))\n",
    "num3 = int(input(\"Enter third number: \"))\n",
    "\n",
    "if (num1 > num2 and num1 > num3):\n",
    "    print(f'num1 is greater than num2 and num3')\n",
    "elif (num2 > num1 and num2 > num3):\n",
    "    print(f'num2 is greater than num1 and num3')\n",
    "else:\n",
    "    print(f'num3 is greater than num1 and num2')\n",
    "    \n",
    "print_str = f'num1 is greater than num2 and num3' if num1 > num2 and num1 > num3 else f'num2 is greater than num1 and num3' if num2 > num1 and num2 > num3 else f'num3 is greater than num1 and num2'\n",
    "print(print_str)"
   ]
  },
  {
   "cell_type": "code",
   "execution_count": 31,
   "id": "e6d4c1ff",
   "metadata": {},
   "outputs": [
    {
     "name": "stdout",
     "output_type": "stream",
     "text": [
      "55\n"
     ]
    }
   ],
   "source": [
    "# Q. Write a Python program to find the length of the my_str using loop:-\n",
    "# Input:- 'Write a Python program to find the length of the my_str'\n",
    "# Output:- 55\n",
    "\n",
    "my_str = 'Write a Python program to find the length of the my_str'\n",
    "count = 0\n",
    "for i in my_str:\n",
    "    count += 1\n",
    "print(count)"
   ]
  },
  {
   "cell_type": "code",
   "execution_count": 35,
   "id": "c3b6d98d",
   "metadata": {},
   "outputs": [
    {
     "name": "stdout",
     "output_type": "stream",
     "text": [
      "9\n"
     ]
    }
   ],
   "source": [
    "# Q. Write a Python program to find the total number of times letter 'p'\n",
    "# is appeared in the below string using loop:-\n",
    "# Input:- 'peter piper picked a peck of pickled peppers.\\n'\n",
    "# Output:- 9\n",
    "\n",
    "input_str = 'peter piper picked a peck of pickled peppers.\\n'\n",
    "count = 0;\n",
    "for i in input_str:\n",
    "    if(i=='p'):\n",
    "        count +=1\n",
    "print(count)\n",
    "    "
   ]
  },
  {
   "cell_type": "code",
   "execution_count": 44,
   "id": "31fd0ecc",
   "metadata": {},
   "outputs": [
    {
     "name": "stdout",
     "output_type": "stream",
     "text": [
      "0\n",
      "6\n",
      "8\n",
      "12\n",
      "21\n",
      "29\n",
      "37\n",
      "39\n",
      "40\n",
      "0\n",
      "6\n",
      "8\n",
      "12\n",
      "21\n",
      "29\n",
      "37\n",
      "39\n",
      "40\n"
     ]
    }
   ],
   "source": [
    "# Q. Write a Python Program, to print all the indexes of all occurences of\n",
    "# letter 'p' appeared in the string using loop:-\n",
    "# Input:- 'peter piper picked a peck of pickled peppers.'\n",
    "# Output:-\n",
    "# 0\n",
    "# 6\n",
    "# 8\n",
    "# 12\n",
    "# 21\n",
    "# 29\n",
    "# 37\n",
    "# 39\n",
    "# 40\n",
    "input_str = 'peter piper picked a peck of pickled peppers.\\n'\n",
    "count = 0;\n",
    "for i in range(0, len(input_str), 1):\n",
    "    if(input_str[i]=='p'):\n",
    "        print(i)\n",
    "\n",
    "for j in input_str:\n",
    "    \n",
    "    if(j=='p'):\n",
    "        print(count)\n",
    "    count += 1"
   ]
  },
  {
   "cell_type": "code",
   "execution_count": 48,
   "id": "fcad826b",
   "metadata": {},
   "outputs": [
    {
     "name": "stdout",
     "output_type": "stream",
     "text": [
      "['peter', 'piper', 'picked', 'a', 'peck', 'of', 'pickled', 'peppers.']\n"
     ]
    }
   ],
   "source": [
    "# Q. Write a python program to find below output using loop:-\n",
    "# Input:- 'peter piper picked a peck of pickled peppers.'\n",
    "# Output:- ['peter', 'piper', 'picked', 'a', 'peck', 'of', 'pickled',\n",
    "# 'peppers']\n",
    "\n",
    "my_str = 'peter piper picked a peck of pickled peppers.'\n",
    "str_list = []\n",
    "word = ''\n",
    "for i in my_str:\n",
    "    if(i == ' '):\n",
    "        str_list.append(word)\n",
    "        word = ''\n",
    "    else:\n",
    "        word += i\n",
    "if (word):\n",
    "    str_list.append(word)\n",
    "print(str_list)"
   ]
  },
  {
   "cell_type": "code",
   "execution_count": 57,
   "id": "6443d07c",
   "metadata": {},
   "outputs": [
    {
     "name": "stdout",
     "output_type": "stream",
     "text": [
      "peppers. pickled of peck a picked piper peter\n"
     ]
    }
   ],
   "source": [
    "# Q. Write a python program to find below output using loop:-\n",
    "# Input:- 'peter piper picked a peck of pickled peppers.'\n",
    "# Output:- 'peppers pickled of peck a picked piper peter'\n",
    "my_str = 'peter piper picked a peck of pickled peppers.'\n",
    "\n",
    "word = ''\n",
    "res_str = ''\n",
    "for i in range(-1, -len(my_str)-1, -1):\n",
    "    if (my_str[i] == ' '):\n",
    "        word = word + my_str[i]\n",
    "        res_str += word       \n",
    "        word = ''\n",
    "    else:\n",
    "        word = my_str[i] + word\n",
    "if (word):\n",
    "    res_str += word\n",
    "print(res_str)\n",
    "        \n"
   ]
  },
  {
   "cell_type": "code",
   "execution_count": 58,
   "id": "1bf669b0",
   "metadata": {},
   "outputs": [
    {
     "name": "stdout",
     "output_type": "stream",
     "text": [
      ".sreppep delkcip fo kcep a dekcip repip retep\n"
     ]
    }
   ],
   "source": [
    "# Q. Write a python program to find below output using loop:-\n",
    "# Input:- 'peter piper picked a peck of pickled peppers.'\n",
    "# Output:- '.sreppep delkcip fo kcep a dekcip repip retep'\n",
    "my_str = 'peter piper picked a peck of pickled peppers.'\n",
    "res_str = ''\n",
    "for i in my_str:\n",
    "    res_str = i + res_str\n",
    "print(res_str)"
   ]
  },
  {
   "cell_type": "code",
   "execution_count": 61,
   "id": "573c8810",
   "metadata": {},
   "outputs": [
    {
     "name": "stdout",
     "output_type": "stream",
     "text": [
      "retep repip dekcip a kcep fo delkcip .sreppep\n"
     ]
    }
   ],
   "source": [
    "# Q. Write a python program to find below output using loop:-\n",
    "# Input:- 'peter piper picked a peck of pickled peppers.'\n",
    "# Output:- 'retep repip dekcip a kcep fo delkcip sreppep'\n",
    "my_str = 'peter piper picked a peck of pickled peppers.'\n",
    "word = ''\n",
    "res_str = ''\n",
    "for i in my_str:\n",
    "    if (i == ' '):\n",
    "        word += i\n",
    "        res_str += word;\n",
    "        word = ''\n",
    "    else:\n",
    "        word = i + word;\n",
    "if (word):\n",
    "    res_str += word;\n",
    "print(res_str)"
   ]
  },
  {
   "cell_type": "code",
   "execution_count": 63,
   "id": "80d81c0b",
   "metadata": {},
   "outputs": [
    {
     "name": "stdout",
     "output_type": "stream",
     "text": [
      "Peter Piper Picked A Peck Of Pickled Peppers.\n"
     ]
    }
   ],
   "source": [
    "# Q. Write a python program to find below output using loop:-\n",
    "# Input:- 'peter piper picked a peck of pickled peppers.'\n",
    "# Output:- 'Peter Piper Picked A Peck Of Pickled Peppers'\n",
    "\n",
    "my_str = 'peter piper picked a peck of pickled peppers.'\n",
    "word = ''\n",
    "res_str = ''\n",
    "\n",
    "for i in my_str:\n",
    "    if (i == ' '):\n",
    "        word += i\n",
    "        res_str += word;\n",
    "        word = ''\n",
    "    else:\n",
    "        if(word == ''):\n",
    "            word = i.upper()\n",
    "        else:\n",
    "            word += i;\n",
    "if (word):\n",
    "    res_str += word;\n",
    "print(res_str)\n"
   ]
  },
  {
   "cell_type": "code",
   "execution_count": 64,
   "id": "1b13ee6d",
   "metadata": {},
   "outputs": [
    {
     "name": "stdout",
     "output_type": "stream",
     "text": [
      "Peter piper picked a peck of pickled peppers.\n"
     ]
    }
   ],
   "source": [
    "# Q. Write a python program to find below output using loop:-\n",
    "# Input:- 'Peter Piper Picked A Peck Of Pickled Peppers.'\n",
    "# Output:- 'Peter piper picked a peck of pickled peppers'\n",
    "\n",
    "my_str = 'Peter Piper Picked A Peck Of Pickled Peppers.'\n",
    "word = ''\n",
    "res_str = ''\n",
    "count = 0\n",
    "for i in my_str:\n",
    "    if (i == ' '):\n",
    "        word += i\n",
    "        res_str += word;\n",
    "        word = ''\n",
    "        count +=1\n",
    "    else:\n",
    "        if(word == '' and count > 0):\n",
    "            word = i.lower()\n",
    "        else:\n",
    "            word += i;\n",
    "if (word):\n",
    "    res_str += word;\n",
    "print(res_str)"
   ]
  },
  {
   "cell_type": "code",
   "execution_count": 96,
   "id": "a9c41e06",
   "metadata": {},
   "outputs": [
    {
     "name": "stdout",
     "output_type": "stream",
     "text": [
      "29\n"
     ]
    }
   ],
   "source": [
    "# Q. Write a python program to implement index method using loop. If\n",
    "# sub_str is found in my_str then it will print the index\n",
    "# of first occurrence of first character of matching string in my_str:-\n",
    "# Input:- my_str = 'Peter Piper Picked A Peck Of Pickled Peppers.',\n",
    "# sub_str = 'Pickl'\n",
    "# Output:- 29\n",
    "\n",
    "def customIndex(string, subString):\n",
    "    my_str = string\n",
    "    sub_str = subString\n",
    "    index = -1\n",
    "    for i in range(0, len(my_str), 1):    \n",
    "    # check first character\n",
    "        if (my_str[i] == sub_str[0]):\n",
    "    # assign the index of first character matched\n",
    "            index = i;\n",
    "    # iterate through sub string start from 1 as 0 already compared in previous if statement\n",
    "            for j in range (1, len(sub_str), 1):\n",
    "    # keep comparing until characters in both the string are matching and iteration on string should not exeed tha string length\n",
    "                if (i+j < len(my_str) and (my_str[i+j] == sub_str[j])):\n",
    "                    continue\n",
    "                else:\n",
    "                    index = -1;\n",
    "\n",
    "        if (index >= 0):        \n",
    "            break;\n",
    "\n",
    "    if (index >= 0):        \n",
    "        print(index)\n",
    "    else:\n",
    "        print('Substring not found in the given string')\n",
    "\n",
    "comp_string = 'Peter Piper Picked A Peck Of Pickled Peppers.'\n",
    "sub_string = 'Pickl'\n",
    "customIndex(comp_string, sub_string)\n",
    "\n"
   ]
  },
  {
   "cell_type": "code",
   "execution_count": 112,
   "id": "4db28875",
   "metadata": {},
   "outputs": [
    {
     "name": "stdout",
     "output_type": "stream",
     "text": [
      "Peter Piper Picked A Pack Of Pickled Peppers.\n"
     ]
    }
   ],
   "source": [
    "# Q. Write a python program to implement replace method using loop. If\n",
    "# sub_str is found in my_str then it will replace the first\n",
    "# occurrence of sub_str with new_str else it will will print sub_str not\n",
    "# found:-\n",
    "# Input:- my_str = 'Peter Piper Picked A Peck Of Pickled Peppers.',\n",
    "# sub_str = 'Peck', new_str = 'Pack'\n",
    "# Output:- 'Peter Piper Picked A Pack Of Pickled Peppers.'\n",
    "\n",
    "my_str = 'Peter Piper Picked A Peck Of Pickled Peppers.'\n",
    "sub_str = 'Peck'\n",
    "new_str = 'Pack'\n",
    "new_my_str = ''\n",
    "index = -1\n",
    "for i in range(0, len(my_str), 1):\n",
    "    if (my_str[i] == sub_str[0]):\n",
    "        index = i;\n",
    "        for j in range (1, len(sub_str), 1):\n",
    "            if (i+j < len(my_str) and (my_str[i+j] == sub_str[j])):\n",
    "                continue\n",
    "            else:\n",
    "                index = -1;\n",
    "    if (index >= 0):\n",
    "        break;\n",
    "\n",
    "# If substring present in the given string then index will be greater than or equal to zero\n",
    "if (index >= 0):\n",
    "\n",
    "    #   Take from starting of the string to place where substring matched\n",
    "    for k in range (0, index, 1):\n",
    "        new_my_str += my_str[k]\n",
    "\n",
    "    # Append the new string at the place of old substring    \n",
    "    for l in new_str:\n",
    "        new_my_str +=l\n",
    "        \n",
    "    # Append the remaining part of string    \n",
    "    remain_str_start_index = index + len(sub_str)\n",
    "    if (remain_str_start_index < len(my_str)):\n",
    "        for m in range(remain_str_start_index, len(my_str), 1):\n",
    "            new_my_str +=my_str[m]\n",
    "    print(new_my_str)\n",
    "else:\n",
    "    print('Substring not found in the given string')\n",
    "    \n"
   ]
  },
  {
   "cell_type": "code",
   "execution_count": 121,
   "id": "2544fa8b",
   "metadata": {},
   "outputs": [
    {
     "name": "stdout",
     "output_type": "stream",
     "text": [
      "*********************Peck********************\n"
     ]
    }
   ],
   "source": [
    "# Q. Write a python program to find below output (implements rjust and\n",
    "# ljust) using loop:-\n",
    "# Input:- 'Peter Piper Picked A Peck Of Pickled Peppers.', sub_str =\n",
    "# 'Peck',\n",
    "# Output:- '*********************Peck********************'\n",
    "\n",
    "my_str = 'Peter Piper Picked A Peck Of Pickled Peppers.'\n",
    "sub_str = 'Peck'\n",
    "fillChar = '*'\n",
    "new_my_str = ''\n",
    "index = -1\n",
    "for i in range(0, len(my_str), 1):\n",
    "    if (my_str[i] == sub_str[0]):\n",
    "        index = i;\n",
    "        for j in range (1, len(sub_str), 1):\n",
    "            if (i+j < len(my_str) and (my_str[i+j] == sub_str[j])):\n",
    "                continue\n",
    "            else:\n",
    "                index = -1;\n",
    "    if (index >= 0):\n",
    "        break;\n",
    "\n",
    "# If substring present in the given string then index will be greater than or equal to zero\n",
    "if (index >= 0):\n",
    "\n",
    "    # Take from starting of the string to fill upto index where substring matched\n",
    "    for k in range (0, index, 1):\n",
    "        new_my_str += fillChar\n",
    "\n",
    "    # Append the substring    \n",
    "    for l in sub_str:\n",
    "        new_my_str +=l\n",
    "        \n",
    "    # Fill the remaining part of string with fillChar\n",
    "    remain_str_start_index = index + len(sub_str)\n",
    "    if (remain_str_start_index < len(my_str)):\n",
    "        for m in range(remain_str_start_index, len(my_str), 1):\n",
    "            new_my_str +=fillChar\n",
    "    print(new_my_str)    \n",
    "else:\n",
    "    print('Substring not found in the given string')\n"
   ]
  },
  {
   "cell_type": "code",
   "execution_count": 130,
   "id": "3e8c6677",
   "metadata": {},
   "outputs": [
    {
     "name": "stdout",
     "output_type": "stream",
     "text": [
      "['This', ' is', ' Python class']\n"
     ]
    }
   ],
   "source": [
    "# Q. Write a python program to find below output using loop:-\n",
    "# Input:- 'This is Python class', sep = ' is',\n",
    "# Output:- ['This', 'is', 'Python class']\n",
    "my_str = 'This is Python class'\n",
    "sep = ' is'\n",
    "list_at_sep = []\n",
    "index = -1\n",
    "for i in range(0, len(my_str), 1):\n",
    "    if (my_str[i] == sep[0]):\n",
    "        index = i;\n",
    "        for j in range (1, len(sep), 1):\n",
    "            if (i+j < len(my_str) and (my_str[i+j] == sep[j])):\n",
    "                continue\n",
    "            else:\n",
    "                index = -1;\n",
    "    if (index >= 0):\n",
    "        break;\n",
    "\n",
    "# If substring present in the given string then index will be greater than or equal to zero\n",
    "if (index >= 0):    \n",
    "    # Take from starting of the string to index where seperator matched\n",
    "    list_at_sep.append(my_str[0:index:1])\n",
    "    # Append the Seperator \n",
    "    list_at_sep.append(sep[::])    \n",
    "    # Append the remaining part of string \n",
    "    remain_str_start_index = index + len(sep)\n",
    "    list_at_sep.append(my_str[remain_str_start_index:len(my_str):1])\n",
    "    print(list_at_sep)    \n",
    "else:\n",
    "    print('Substring not found in the given string')"
   ]
  },
  {
   "cell_type": "code",
   "execution_count": null,
   "id": "9be4152c",
   "metadata": {},
   "outputs": [],
   "source": []
  }
 ],
 "metadata": {
  "kernelspec": {
   "display_name": "Python 3",
   "language": "python",
   "name": "python3"
  },
  "language_info": {
   "codemirror_mode": {
    "name": "ipython",
    "version": 3
   },
   "file_extension": ".py",
   "mimetype": "text/x-python",
   "name": "python",
   "nbconvert_exporter": "python",
   "pygments_lexer": "ipython3",
   "version": "3.8.8"
  }
 },
 "nbformat": 4,
 "nbformat_minor": 5
}
