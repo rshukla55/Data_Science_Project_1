{
 "cells": [
  {
   "cell_type": "code",
   "execution_count": 1,
   "id": "09f5a4ac",
   "metadata": {},
   "outputs": [
    {
     "name": "stdout",
     "output_type": "stream",
     "text": [
      "<class 'float'> 1731142183088\n"
     ]
    }
   ],
   "source": [
    "# Q1\n",
    "# Declare a float value and store it in a variable.\n",
    "# Check the type and print the id of the same.\n",
    "float_val = 45.0\n",
    "print(type(float_val), id(float_val))"
   ]
  },
  {
   "cell_type": "code",
   "execution_count": 5,
   "id": "71b7ea45",
   "metadata": {},
   "outputs": [
    {
     "name": "stdout",
     "output_type": "stream",
     "text": [
      "sum of floats 33.65\n",
      "difference of floats 10.13\n",
      "product of floats 257.4264\n",
      "division of floats 1.8613945578231292\n",
      "remainedr of floats 10.13\n",
      "quotient of floats 1.0\n",
      "power of floats 5771519349940783.0\n"
     ]
    }
   ],
   "source": [
    "# Q2\n",
    "# Arithmetic Operations on float\n",
    "float_val1= 21.89\n",
    "float_val2= 11.76\n",
    "\n",
    "# Find sum of both numbers\n",
    "print(f'sum of floats {float_val1 + float_val2}')\n",
    "\n",
    "# Find difference between them\n",
    "print(f'difference of floats {float_val1 - float_val2}')\n",
    "\n",
    "#  Find the product of both numbers.\n",
    "print(f'product of floats {float_val1 * float_val2}')\n",
    "\n",
    "# Find value after dividing first num with second number\n",
    "print(f'division of floats {float_val1/float_val2}')\n",
    "\n",
    "# Find the remainder after dividing first number with second number\n",
    "print(f'remainedr of floats {float_val1%float_val2}')\n",
    "\n",
    "# Find the quotient after dividing first number with second number\n",
    "print(f'quotient of floats {float_val1//float_val2}')\n",
    "\n",
    "# Find the result of the first num to the power of the second number.\n",
    "print(f'power of floats {float_val1 ** float_val2}')"
   ]
  },
  {
   "cell_type": "code",
   "execution_count": 12,
   "id": "4ec68ae1",
   "metadata": {},
   "outputs": [
    {
     "name": "stdout",
     "output_type": "stream",
     "text": [
      "23.45 greater than 12.34, True\n",
      "23.45 smaller than 12.34, False\n",
      "23.45 greater than or equal to 12.34, True\n",
      "23.45 less than or equal to 12.34, False\n"
     ]
    }
   ],
   "source": [
    "# Q3\n",
    "# Comparison Operators on float\n",
    "float_var1 = 23.45\n",
    "float_var2 = 12.34\n",
    "print (f'{float_var1} greater than {float_var2}, {float_var1 > float_var2}')\n",
    "\n",
    "print (f'{float_var1} smaller than {float_var2}, {float_var1 < float_var2}')\n",
    "\n",
    "print (f'{float_var1} greater than or equal to {float_var2}, {float_var1 >= float_var2}')\n",
    "       \n",
    "print (f'{float_var1} less than or equal to {float_var2}, {float_var1 <= float_var2}')\n"
   ]
  },
  {
   "cell_type": "code",
   "execution_count": 13,
   "id": "fb8662f0",
   "metadata": {},
   "outputs": [
    {
     "name": "stdout",
     "output_type": "stream",
     "text": [
      "28.47 == 14.34 False\n",
      "28.47 != 14.34 True\n"
     ]
    }
   ],
   "source": [
    "# Q4\n",
    "# Equality Operator\n",
    "float_var1 = 28.47\n",
    "float_var2 = 14.34\n",
    "print(f'{float_var1} == {float_var2} {float_var1 == float_var2}')\n",
    "\n",
    "print(f'{float_var1} != {float_var2} {float_var1 != float_var2}')\n"
   ]
  },
  {
   "cell_type": "code",
   "execution_count": 14,
   "id": "17f821e6",
   "metadata": {},
   "outputs": [
    {
     "name": "stdout",
     "output_type": "stream",
     "text": [
      "Output is 20.3\n",
      "Output is 0.0\n",
      "Output is 0.0\n",
      "Output is 0.0\n",
      "Output is 10.2\n",
      "Output is 20.3\n",
      "Output is 20.3\n",
      "Output is 0.0\n",
      "Output is False\n",
      "Output is True\n"
     ]
    }
   ],
   "source": [
    "# Q5\n",
    "# Logical operators\n",
    "\n",
    "print(f'Output is {10.20 and 20.30}') #both are true and second value taken\n",
    "\n",
    "print(f'Output is {0.0 and 20.30}') #First is false so first value taken\n",
    "\n",
    "print(f'Output is {20.30 and 0.0}') #Goes to till second and second value is false so second is taken\n",
    "\n",
    "print(f'Output is {0.0 and 0.0}') #First is false so first value is taken\n",
    "\n",
    "print(f'Output is {10.20 or 20.30}') #First is True so first value is taken\n",
    "\n",
    "print(f'Output is {0.0 or 20.30}') #Goes to till second and second is true second value is taken\n",
    "\n",
    "print(f'Output is {20.30 or 0.0}') #First is True so first value is taken\n",
    "\n",
    "print(f'Output is {0.0 or 0.0}') #Goes to till second and second is also false and second value is taken\n",
    "\n",
    "print(f'Output is {not 10.20}') #Not of true is false\n",
    "\n",
    "print(f'Output is {not 0.0}') #Not of false is True"
   ]
  },
  {
   "cell_type": "code",
   "execution_count": 16,
   "id": "67512279",
   "metadata": {},
   "outputs": [
    {
     "name": "stdout",
     "output_type": "stream",
     "text": [
      "False\n",
      "True\n",
      "1731143723408 1731143721392\n"
     ]
    }
   ],
   "source": [
    "# Q6\n",
    "# What is the output of expression inside print statement. \n",
    "a = 10.20\n",
    "b = 10.20\n",
    "print(a is b) #True or False? False\n",
    "\n",
    "print(a is not b) #True or False? True\n",
    "\n",
    "\n",
    "# Why the Id of float values are different when the same value is\n",
    "# assigned to two different variables\n",
    "c = 10.5 \n",
    "d = 10.5\n",
    "print(id(c), id(d))\n",
    "# Object reusability is not supported for floats in Python.\n",
    "# That's why id of c & d is not same.\n",
    "\n",
    "\n",
    "# but id will be same if I assign the variable\n",
    "# having float i.e. a=c then both a and c's Id are same\n",
    "# Since asince a & c pointing to same object in heap that's why id is same.\n"
   ]
  },
  {
   "cell_type": "code",
   "execution_count": 17,
   "id": "2b26f5fd",
   "metadata": {},
   "outputs": [
    {
     "name": "stdout",
     "output_type": "stream",
     "text": [
      "True\n",
      "True\n",
      "True\n",
      "True\n",
      "True\n",
      "True\n"
     ]
    }
   ],
   "source": [
    "# Q7\n",
    "# Membership operation\n",
    "# in, not in are two membership operators and it returns boolean value\n",
    "print('2.7' in 'Python2.7.8') #True\n",
    "print(10.20 in [10,10.20,10+20j,'Python']) #True\n",
    "print(10.20 in (10,10.20,10+20j,'Python')) # True\n",
    "print(20.30 in {1,20.30,30+40j}) # True\n",
    "print(2.3 in {1:100, 2.3:200, 30+40j:300}) # True\n",
    "print(10 in range(20)) # True"
   ]
  },
  {
   "cell_type": "code",
   "execution_count": null,
   "id": "ecc33854",
   "metadata": {},
   "outputs": [],
   "source": []
  }
 ],
 "metadata": {
  "kernelspec": {
   "display_name": "Python 3",
   "language": "python",
   "name": "python3"
  },
  "language_info": {
   "codemirror_mode": {
    "name": "ipython",
    "version": 3
   },
   "file_extension": ".py",
   "mimetype": "text/x-python",
   "name": "python",
   "nbconvert_exporter": "python",
   "pygments_lexer": "ipython3",
   "version": "3.8.8"
  }
 },
 "nbformat": 4,
 "nbformat_minor": 5
}
