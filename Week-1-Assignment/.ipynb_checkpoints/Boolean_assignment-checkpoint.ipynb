{
 "cells": [
  {
   "cell_type": "code",
   "execution_count": 2,
   "id": "de0e736d",
   "metadata": {},
   "outputs": [
    {
     "name": "stdout",
     "output_type": "stream",
     "text": [
      "<class 'bool'> <class 'bool'>\n",
      "140731741755248\n",
      "140731741755248\n"
     ]
    }
   ],
   "source": [
    "# Q1 \n",
    "# Declare a boolean value and store it in a variable.\n",
    "# Check the type and print the id of the same.\n",
    "test = True;\n",
    "test1 = False;\n",
    "print (type(test), type(test1))\n",
    "# print (dir(__builtin__))\n",
    "print(id(test1))\n",
    "print(id(test1))\n",
    "\n",
    "# bool_var_t = True\n",
    "# print(type(bool_var_t))\n",
    "# print(id(bool_var_t))"
   ]
  },
  {
   "cell_type": "code",
   "execution_count": 44,
   "id": "c9e15830",
   "metadata": {},
   "outputs": [
    {
     "name": "stdout",
     "output_type": "stream",
     "text": [
      "<class 'int'> <class 'int'>\n",
      "140732072732592 140732072732592\n"
     ]
    }
   ],
   "source": [
    "# Q2\n",
    "# Take one boolean value between 0 - 256.\n",
    "# Assign it to two different variables.\n",
    "# Check the id of both the variables. It should come the same. Check why?\n",
    "testVal = 5;\n",
    "testVal1= 5;\n",
    "# testVal2 = bool(testVal1);\n",
    "print(type(testVal), type(testVal1))\n",
    "print(id(testVal), id(testVal1))\n",
    "# print(type(testVal2))\n",
    "# print(dir(bool))\n",
    "\n",
    "# Why id is same for both the variables testVal and testVal1?\n",
    "# In memory heap int 5 is an object and each time address of object 5 in heap is same. \n",
    "# Both the variables assigned same int object so its pointing to the same address that why id for both is same.  \n",
    "# in cpython object reusability works for the inte range -5 to 256 only"
   ]
  },
  {
   "cell_type": "code",
   "execution_count": 9,
   "id": "a511e8be",
   "metadata": {},
   "outputs": [
    {
     "name": "stdout",
     "output_type": "stream",
     "text": [
      "1\n",
      "1\n",
      "-1\n",
      "0\n",
      "0.0\n",
      "0\n",
      "0\n",
      "1\n",
      "0\n"
     ]
    }
   ],
   "source": [
    "# Q3\n",
    "# Arithmetic Operations on boolean data\n",
    "# Take two different boolean values.\n",
    "# Store them in two different variables.\n",
    "\n",
    "test = True\n",
    "test1= False\n",
    "\n",
    "print(test + test1)\n",
    "\n",
    "print(test - test1)\n",
    "\n",
    "print(test1 - test)\n",
    "\n",
    "# Find the product of both.\n",
    "print(test*test1)\n",
    "\n",
    "# Find value after dividing first value with second value\n",
    "# ZeroDivisionError\n",
    "# print(test/test1)\n",
    "print(test1/test)\n",
    "\n",
    "# Find the remainder after dividing first value with second value\n",
    "# ZeroDivisionError \n",
    "# print(test%test1)\n",
    "print(test1%test)\n",
    "\n",
    "# Find the quotient after dividing first value with second value\n",
    "# ZeroDivisionError  \n",
    "# print(int(test/test1))\n",
    "print(int(test1/test))\n",
    "\n",
    "# Find the result of first value to the power of second value.\n",
    "print(test ** test1)\n",
    "print(test1 ** test)\n",
    "\n"
   ]
  },
  {
   "cell_type": "code",
   "execution_count": 11,
   "id": "45a4e6c4",
   "metadata": {},
   "outputs": [
    {
     "name": "stdout",
     "output_type": "stream",
     "text": [
      "True\n",
      "False\n",
      "True\n",
      "False\n"
     ]
    }
   ],
   "source": [
    "# Q4\n",
    "# Comparison Operators on boolean values\n",
    "test = True;\n",
    "test1 = False;\n",
    "\n",
    "# Greater than, '>'\n",
    "print(test > test1)\n",
    "\n",
    "# less than, '<'\n",
    "print(test < test1)\n",
    "\n",
    "# Greater than or equal to, '>='\n",
    "print(test >= test1)\n",
    "\n",
    "# Less than or equal to, '<='\n",
    "print(test <= test1)\n"
   ]
  },
  {
   "cell_type": "code",
   "execution_count": 12,
   "id": "4bd0ceeb",
   "metadata": {},
   "outputs": [
    {
     "name": "stdout",
     "output_type": "stream",
     "text": [
      "False\n",
      "True\n"
     ]
    }
   ],
   "source": [
    "# Q5\n",
    "# Equality Operator\n",
    "test = True;\n",
    "test1 = False\n",
    "\n",
    "# Equate them using equality operators (==, !=)\n",
    "print(test == test1)\n",
    "print(test != test1)"
   ]
  },
  {
   "cell_type": "code",
   "execution_count": 17,
   "id": "a0e9393f",
   "metadata": {},
   "outputs": [
    {
     "name": "stdout",
     "output_type": "stream",
     "text": [
      "#----------------------------------------->Output is True\n",
      "#----------------------------------------->Output is False\n",
      "#----------------------------------------->Output is False\n",
      "#----------------------------------------->Output is False\n",
      "#----------------------------------------->Output is True\n",
      "#----------------------------------------->Output is True\n",
      "#----------------------------------------->Output is True\n",
      "#----------------------------------------->Output is False\n",
      "#----------------------------------------->Output is False\n",
      "#----------------------------------------->Output is True\n"
     ]
    }
   ],
   "source": [
    "# Q6\n",
    "# Logical operators\n",
    "print(f'#----------------------------------------->Output is {True and True}')\n",
    "\n",
    "print(f'#----------------------------------------->Output is {False and True}')\n",
    "\n",
    "print(f'#----------------------------------------->Output is {True and False}')\n",
    "\n",
    "print(f'#----------------------------------------->Output is {False and False}')\n",
    "\n",
    "print(f'#----------------------------------------->Output is {True or True}')\n",
    "\n",
    "print(f'#----------------------------------------->Output is {False or True}')\n",
    "\n",
    "print(f'#----------------------------------------->Output is {True or False}')\n",
    "\n",
    "print(f'#----------------------------------------->Output is {False or False}')\n",
    "\n",
    "print(f'#----------------------------------------->Output is {not True}')\n",
    "\n",
    "print(f'#----------------------------------------->Output is {not False}')\n"
   ]
  },
  {
   "cell_type": "code",
   "execution_count": 24,
   "id": "e6cac004",
   "metadata": {},
   "outputs": [
    {
     "name": "stdout",
     "output_type": "stream",
     "text": [
      "Bitwise and(&) --------------> True,True -------> Output is True\n",
      "Bitwise or(|) --------------> True, False -------> Output is True\n",
      "Bitwise(^) --------------> True, False -------> Output is True\n",
      "Bitwise negation(~) ---------> True -------> Output is -2\n",
      "Bitwise left shift ---------> True,2 -------> Output is 4\n",
      "Bitwise right shift ---------> True,2 -------> Output is 0\n"
     ]
    }
   ],
   "source": [
    "# Q7\n",
    "# Bitwise Operators\n",
    "# Bitwise and(&) --------------> True, True -------> Output is True\n",
    "print(f'Bitwise and(&) --------------> True,True -------> Output is {True & True}')\n",
    "\n",
    "# Bitwise or(|) --------------> True, False -------> Output is True\n",
    "print(f'Bitwise or(|) --------------> True, False -------> Output is {True | False}')\n",
    "\n",
    "# Bitwise(^) --------------> True, False -------> Output is True\n",
    "print(f'Bitwise(^) --------------> True, False -------> Output is {True ^ False}')\n",
    "\n",
    "# Bitwise negation(~) ---------> True -------> Output is -2\n",
    "print(f'Bitwise negation(~) ---------> True -------> Output is {~True}')\n",
    "\n",
    "# Bitwise left shift ---------> True,2 -------> Output is 4\n",
    "print(f'Bitwise left shift ---------> True,2 -------> Output is {True << 2}')\n",
    "\n",
    "# Bitwise right shift ---------> True,2 -------> Output is 0\n",
    "print(f'Bitwise right shift ---------> True,2 -------> Output is {True >> 2}')"
   ]
  },
  {
   "cell_type": "code",
   "execution_count": 25,
   "id": "8d9d09c5",
   "metadata": {},
   "outputs": [
    {
     "name": "stdout",
     "output_type": "stream",
     "text": [
      "True\n",
      "False\n",
      "True\n",
      "False\n"
     ]
    }
   ],
   "source": [
    "# Q8\n",
    "# What is the output of expression inside the print statement. Cross\n",
    "# check before running the program.\n",
    "a = True\n",
    "b = True\n",
    "print(a is b) #True or False? #it will be True\n",
    "print(a is not b) #True or False? # it will be False\n",
    "\n",
    "a = False\n",
    "b = False\n",
    "print(a is b) #True or False? # it will be True\n",
    "print(a is not b) #True or False? # it will be False"
   ]
  },
  {
   "cell_type": "code",
   "execution_count": 28,
   "id": "6da08718",
   "metadata": {},
   "outputs": [
    {
     "name": "stdout",
     "output_type": "stream",
     "text": [
      "True\n",
      "True\n",
      "True\n",
      "True\n",
      "True\n",
      "False\n",
      "False\n",
      "False\n",
      "False\n",
      "False\n"
     ]
    }
   ],
   "source": [
    "# Q9\n",
    "# Membership operation\n",
    "\n",
    "print(True in [10,10.20,10+20j,'Python', True])\n",
    "print(False in (10,10.20,10+20j,'Python', False))\n",
    "print(True in {1,2,3, True})\n",
    "print(True in {True:100, False:200, True:300})\n",
    "print(False in {True:100, False:200, True:300})\n",
    "\n",
    "print(True not in [10,10.20,10+20j,'Python', True])\n",
    "print(False not in (10,10.20,10+20j,'Python', False))\n",
    "print(True not in {1,2,3, True})\n",
    "print(True not in {True:100, False:200, True:300})\n",
    "print(False not in {True:100, False:200, True:300})"
   ]
  },
  {
   "cell_type": "code",
   "execution_count": null,
   "id": "2e48299e",
   "metadata": {},
   "outputs": [],
   "source": []
  }
 ],
 "metadata": {
  "kernelspec": {
   "display_name": "Python 3",
   "language": "python",
   "name": "python3"
  },
  "language_info": {
   "codemirror_mode": {
    "name": "ipython",
    "version": 3
   },
   "file_extension": ".py",
   "mimetype": "text/x-python",
   "name": "python",
   "nbconvert_exporter": "python",
   "pygments_lexer": "ipython3",
   "version": "3.8.8"
  }
 },
 "nbformat": 4,
 "nbformat_minor": 5
}
