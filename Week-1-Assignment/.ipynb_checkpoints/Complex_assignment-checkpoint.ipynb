{
 "cells": [
  {
   "cell_type": "code",
   "execution_count": 1,
   "id": "75abb3c0",
   "metadata": {},
   "outputs": [
    {
     "name": "stdout",
     "output_type": "stream",
     "text": [
      "<class 'complex'> 2313225101968\n"
     ]
    }
   ],
   "source": [
    "# Q1\n",
    "# Declare a complex number and store it in a variable.\n",
    "# Check the type and print the id of the same.\n",
    "comp_num = 5+9j\n",
    "print(type(comp_num), id(comp_num))"
   ]
  },
  {
   "cell_type": "code",
   "execution_count": 3,
   "id": "15b95d4a",
   "metadata": {},
   "outputs": [
    {
     "name": "stdout",
     "output_type": "stream",
     "text": [
      "Sum of (12+15j) and (10+7j) --> (22+22j)\n",
      "Difference of (12+15j) and (10+7j) --> (2+8j)\n",
      "Product of (12+15j) and (10+7j) --> (15+234j)\n",
      "Division of (12+15j) and (10+7j) --> (1.5100671140939599+0.4429530201342283j)\n",
      "(12+15j) power of (10+7j) --> (-2524995707.0530667-12664979096.237808j)\n"
     ]
    }
   ],
   "source": [
    "# Q2\n",
    "# Arithmetic Operations on complex number\n",
    "\n",
    "comp_num1 = 12 + 15j\n",
    "comp_num2 = 10 + 7j\n",
    "\n",
    "# Find sum of both numbers\n",
    "print(f'Sum of {comp_num1} and {comp_num2} --> {comp_num1 + comp_num2}')\n",
    "\n",
    "# Find difference between them\n",
    "print(f'Difference of {comp_num1} and {comp_num2} --> {comp_num1 - comp_num2}')\n",
    "\n",
    "# Find the product of both numbers.\n",
    "print(f'Product of {comp_num1} and {comp_num2} --> {comp_num1 * comp_num2}')\n",
    "\n",
    "# Find value after dividing first num with second number\n",
    "print(f'Division of {comp_num1} and {comp_num2} --> {comp_num1 / comp_num2}')\n",
    "\n",
    "# Find the result of the first num to the power of the second number.\n",
    "print(f'{comp_num1} power of {comp_num2} --> {comp_num1 ** comp_num2}')"
   ]
  },
  {
   "cell_type": "code",
   "execution_count": 4,
   "id": "ec24e6c6",
   "metadata": {},
   "outputs": [
    {
     "name": "stdout",
     "output_type": "stream",
     "text": [
      "(15+17j) == (13+8j) --> False\n",
      "(15+17j) != (13+8j) --> True\n"
     ]
    }
   ],
   "source": [
    "# Q4\n",
    "# Equality Operator\n",
    "comp_num1 = 15 + 17j\n",
    "comp_num2 = 13 + 8j\n",
    "# Equate them using equality operators (==, !=)\n",
    "print(f'{comp_num1} == {comp_num2} --> {comp_num1 == comp_num2}')\n",
    "print(f'{comp_num1} != {comp_num2} --> {comp_num1 != comp_num2}')\n"
   ]
  },
  {
   "cell_type": "code",
   "execution_count": 5,
   "id": "081261de",
   "metadata": {},
   "outputs": [
    {
     "name": "stdout",
     "output_type": "stream",
     "text": [
      "#----------------------------------------->Output is (20+30j)\n",
      "#----------------------------------------->Output is 0j\n",
      "#----------------------------------------->Output is 0j\n",
      "#----------------------------------------->Output is 0j\n",
      "#----------------------------------------->Output is (10+20j)\n",
      "#----------------------------------------->Output is (20+30j)\n",
      "#----------------------------------------->Output is (20+30j)\n",
      "#----------------------------------------->Output is 0j\n",
      "#----------------------------------------->Output is False\n",
      "#----------------------------------------->Output is True\n"
     ]
    }
   ],
   "source": [
    "# Q5\n",
    "# Logical operators\n",
    "\n",
    "print(f'#----------------------------------------->Output is {10+20j and 20+30j}') \n",
    "\n",
    "print(f'#----------------------------------------->Output is {0+0j and 20+30j}') \n",
    "\n",
    "print(f'#----------------------------------------->Output is {20+30j and 0+0j}')\n",
    "\n",
    "print(f'#----------------------------------------->Output is {0+0j and 0+0j}')\n",
    "\n",
    "print(f'#----------------------------------------->Output is {10+20j or 20+30j}')\n",
    "\n",
    "print(f'#----------------------------------------->Output is {0+0j or 20+30j}')\n",
    "\n",
    "print(f'#----------------------------------------->Output is {20+30j or 0+0j}') \n",
    "\n",
    "print(f'#----------------------------------------->Output is {0+0j or 0+0j}') \n",
    "\n",
    "print(f'#----------------------------------------->Output is {not 10+20j}') \n",
    "\n",
    "print(f'#----------------------------------------->Output is {not 0+0j}') \n"
   ]
  },
  {
   "cell_type": "code",
   "execution_count": 6,
   "id": "702a68c4",
   "metadata": {},
   "outputs": [
    {
     "name": "stdout",
     "output_type": "stream",
     "text": [
      "False\n",
      "True\n"
     ]
    }
   ],
   "source": [
    "# Q6\n",
    "# What is the output of the expression inside the print statement.\n",
    "\n",
    "a = 10+20j\n",
    "b = 10+20j\n",
    "print(a is b) #True or False? # it will be False\n",
    "print(a is not b) #True or False? # it will be True"
   ]
  },
  {
   "cell_type": "code",
   "execution_count": 8,
   "id": "164af5e9",
   "metadata": {},
   "outputs": [
    {
     "name": "stdout",
     "output_type": "stream",
     "text": [
      "True\n",
      "True\n",
      "True\n",
      "True\n",
      "True\n",
      "True\n",
      "False\n",
      "False\n",
      "False\n",
      "False\n",
      "True\n",
      "False\n"
     ]
    }
   ],
   "source": [
    "# Q7\n",
    "# Membership operation\n",
    "# in, not in are two membership operators and it returns boolean value\n",
    "print('2.7' in 'Python2.7.8') #True\n",
    "print(10+20j in [10,10.20,10+20j,'Python']) #True\n",
    "print(10+20j in (10,10.20,10+20j,'Python')) #True\n",
    "print(30+40j in {1,20.30,30+40j}) #True\n",
    "print(30+40j in {1:100, 2.3:200, 30+40j:300}) #True\n",
    "print(10 in range(20)) #True\n",
    "\n",
    "print('2.7' not in 'Python2.7.8') #False\n",
    "print(10+20j not in [10,10.20,10+20j,'Python']) #False\n",
    "print(10+20j not in (10,10.20,10+20j,'Python')) #False\n",
    "print(30+40j not in {1,20.30,30+40j}) #False\n",
    "print(30+40j not in {1:100, 2.3:200, 300:30 + 40j}) #True\n",
    "print(10 not in range(20)) #False"
   ]
  },
  {
   "cell_type": "code",
   "execution_count": null,
   "id": "f7e39fac",
   "metadata": {},
   "outputs": [],
   "source": []
  }
 ],
 "metadata": {
  "kernelspec": {
   "display_name": "Python 3",
   "language": "python",
   "name": "python3"
  },
  "language_info": {
   "codemirror_mode": {
    "name": "ipython",
    "version": 3
   },
   "file_extension": ".py",
   "mimetype": "text/x-python",
   "name": "python",
   "nbconvert_exporter": "python",
   "pygments_lexer": "ipython3",
   "version": "3.8.8"
  }
 },
 "nbformat": 4,
 "nbformat_minor": 5
}
