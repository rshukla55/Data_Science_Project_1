{
 "cells": [
  {
   "cell_type": "code",
   "execution_count": 1,
   "id": "b7aab08c",
   "metadata": {},
   "outputs": [
    {
     "name": "stdout",
     "output_type": "stream",
     "text": [
      "<class 'int'> 140731753244784\n"
     ]
    }
   ],
   "source": [
    "# Q1\n",
    "# Declare an int value and store it in a variable.\n",
    "# Check the type and print the id of the same.\n",
    "\n",
    "test = 11;\n",
    "print (type(test), id(test))"
   ]
  },
  {
   "cell_type": "code",
   "execution_count": 2,
   "id": "1ff7b421",
   "metadata": {},
   "outputs": [
    {
     "name": "stdout",
     "output_type": "stream",
     "text": [
      "140731753245168 140731753245168\n"
     ]
    }
   ],
   "source": [
    "# Q2\n",
    "# Take one int value between 0 - 256.\n",
    "# Assign it to two different variables.\n",
    "# Check the id of both the variables. It should come the same. Check why?\n",
    "\n",
    "test = 23;\n",
    "test1= 23;\n",
    "print(id(test), id(test1))\n",
    "\n",
    "# 23 is an int object in heap. So there will be Id of object 23. Since both the variables test and test1 \n",
    "# pointing to the same object so Id will be same.\n",
    "# Due to object reusability getting same object and address for same object will not change."
   ]
  },
  {
   "cell_type": "code",
   "execution_count": 6,
   "id": "69c85c45",
   "metadata": {},
   "outputs": [
    {
     "name": "stdout",
     "output_type": "stream",
     "text": [
      "1726797906544 1726797906928\n"
     ]
    }
   ],
   "source": [
    "# Q3\n",
    "# Take one int value either less than -5 or greater than 256.\n",
    "# Assign it to two different variables.\n",
    "# Check the id of both the variables. It should come different.Check why?\n",
    "\n",
    "test = 260;\n",
    "test1 = 260;\n",
    "\n",
    "print(id(test), id(test1))\n",
    "\n",
    "# https://docs.python.org/2/c-api/int.html#c.PyInt_FromLong    \n",
    "# PyObject* PyInt_FromLong(long ival)\n",
    "# Return value: New reference.\n",
    "# Create a new integer object with a value of ival.\n",
    "\n",
    "# The current implementation keeps an array of integer objects for all integers between -5 and 256, \n",
    "# when you create an int in that range you actually just get back a reference to the existing object. \n",
    "# So it should be possible to change the value of 1. \n",
    "# I suspect the behaviour of Python in this case is undefined.\n",
    "\n",
    "# This is a CPython-specific implementation detail and a undefined behavior, use with cautions\n",
    "# In cpython implementation object reusability is only applicable for the inte range -5 to 256"
   ]
  },
  {
   "cell_type": "code",
   "execution_count": 3,
   "id": "d2b63ef5",
   "metadata": {},
   "outputs": [
    {
     "name": "stdout",
     "output_type": "stream",
     "text": [
      "73\n",
      "27\n",
      "1150\n",
      "2.1739130434782608\n",
      "4\n",
      "2\n",
      "2\n",
      "2\n",
      "2\n",
      "1192092895507812500000000000000000000000\n"
     ]
    }
   ],
   "source": [
    "# Q4\n",
    "# Arithmetic Operations on integers\n",
    "# Take two different integer values.\n",
    "# Store them in two different variables.\n",
    "import math\n",
    "test = 50;\n",
    "test1 = 23;\n",
    "# Do below operations on them:-\n",
    "\n",
    "# Find sum of both numbers\n",
    "print(test + test1)\n",
    "\n",
    "# Find difference between them\n",
    "print(test - test1)\n",
    "\n",
    "# Find the product of both numbers.\n",
    "print(test * test1)\n",
    "\n",
    "# Find value after dividing first num with second number\n",
    "print(test/test1)\n",
    "\n",
    "# Find the remainder after dividing first number with second number\n",
    "print(test%test1)\n",
    "\n",
    "# Find the quotient after dividing first number with second number\n",
    "print(math.floor(test/test1))\n",
    "# or\n",
    "print(int(test/test1))\n",
    "# or floor operator\n",
    "print(int(test//test1))\n",
    "# or\n",
    "print(int(test/test1).__floor__())\n",
    "\n",
    "# Find the result of the first num to the power of the second number.\n",
    "print(test**test1)\n"
   ]
  },
  {
   "cell_type": "code",
   "execution_count": 4,
   "id": "83fa3985",
   "metadata": {},
   "outputs": [
    {
     "name": "stdout",
     "output_type": "stream",
     "text": [
      "20 > 25, False\n",
      "20 < 25, True\n",
      "20 >= 25, False\n",
      "20 <= 25, True\n"
     ]
    }
   ],
   "source": [
    "# Q5\n",
    "# Comparison Operators on integers\n",
    "\n",
    "val1 = 20;\n",
    "val2 = 25;\n",
    "\n",
    "# Greater than, '>'\n",
    "print (f\"{val1} > {val2}, {val1 > val2}\")\n",
    "\n",
    "# Smaller than, '<'\n",
    "print (f\"{val1} < {val2}, {val1 < val2}\")\n",
    "\n",
    "# Greater than or equal to, '>='\n",
    "print (f\"{val1} >= {val2}, {val1 >= val2}\")\n",
    "\n",
    "# Less than or equal to, '<='\n",
    "print (f\"{val1} <= {val2}, {val1 <= val2}\")"
   ]
  },
  {
   "cell_type": "code",
   "execution_count": 5,
   "id": "fab175ce",
   "metadata": {},
   "outputs": [
    {
     "name": "stdout",
     "output_type": "stream",
     "text": [
      "20 == 25, False\n",
      "20 != 25, True\n"
     ]
    }
   ],
   "source": [
    "# Q6\n",
    "# Equality Operator\n",
    "\n",
    "# Equate them using equality operators (==, !=)\n",
    "val1 = 20;\n",
    "val2 = 25;\n",
    "print (f\"{val1} == {val2}, {val1 == val2}\")\n",
    "print (f\"{val1} != {val2}, {val1 != val2}\")\n"
   ]
  },
  {
   "cell_type": "code",
   "execution_count": 7,
   "id": "bb7b7bd5",
   "metadata": {},
   "outputs": [
    {
     "name": "stdout",
     "output_type": "stream",
     "text": [
      "10 and 20 #----------------------------------------->Output is 20\n",
      "0 and 20 #----------------------------------------->Output is 0\n",
      "20 and 0 #----------------------------------------->Output is 0\n",
      "0 and 0 #----------------------------------------->Output is 0\n",
      "10 or 20 #----------------------------------------->Output is 10\n",
      "0 or 20 #----------------------------------------->Output is 20\n",
      "20 or 0 #----------------------------------------->Output is 20\n",
      "0 or 0 #----------------------------------------->Output is 0\n",
      "not 10 #----------------------------------------->Output is False\n",
      "not 0 #----------------------------------------->Output is True\n"
     ]
    }
   ],
   "source": [
    "# Q7\n",
    "\n",
    "print(f'10 and 20 #----------------------------------------->Output is {10 and 20}')\n",
    "\n",
    "print(f'0 and 20 #----------------------------------------->Output is {0 and 20}')\n",
    "\n",
    "print(f'20 and 0 #----------------------------------------->Output is {20 and 0}')\n",
    "\n",
    "print(f'0 and 0 #----------------------------------------->Output is {0 and 0}')\n",
    "\n",
    "print(f'10 or 20 #----------------------------------------->Output is {10 or 20}')\n",
    "\n",
    "print(f'0 or 20 #----------------------------------------->Output is {0 or 20}')\n",
    "\n",
    "print(f'20 or 0 #----------------------------------------->Output is {20 or 0}')\n",
    "\n",
    "print(f'0 or 0 #----------------------------------------->Output is {0 or 0}')\n",
    "\n",
    "print(f'not 10 #----------------------------------------->Output is {not 10}')\n",
    "\n",
    "print(f'not 0 #----------------------------------------->Output is {not 0}')\n"
   ]
  },
  {
   "cell_type": "code",
   "execution_count": 8,
   "id": "c96df1ce",
   "metadata": {},
   "outputs": [
    {
     "name": "stdout",
     "output_type": "stream",
     "text": [
      "Bitwise and(&) -----------------------------------------> 10 & 20 -------> Output is 0\n",
      "Bitwise or(|) -----------------------------------------> 10 | 20 -------> Output is 30\n",
      "Bitwise(^) -----------------------------------------> 10 ^ 20 -------> Output is 30\n",
      "Bitwise negation(~) ------------------------------------> 10 -------> Output is -11\n",
      "Bitwise left shift ------------------------------------> 10 << 2 -------> Output is 40\n",
      "Bitwise right shift ------------------------------------> 10 >> 2 -------> Output is 2\n"
     ]
    }
   ],
   "source": [
    "# Q8\n",
    "\n",
    "print(f'Bitwise and(&) -----------------------------------------> 10 & 20 -------> Output is {10 & 20}')\n",
    "print(f'Bitwise or(|) -----------------------------------------> 10 | 20 -------> Output is {10 | 20}')\n",
    "print(f'Bitwise(^) -----------------------------------------> 10 ^ 20 -------> Output is {10 ^ 20}')\n",
    "print(f'Bitwise negation(~) ------------------------------------> 10 -------> Output is {~10}')\n",
    "print(f'Bitwise left shift ------------------------------------> 10 << 2 -------> Output is {10 << 2}')\n",
    "print(f'Bitwise right shift ------------------------------------> 10 >> 2 -------> Output is {10 >> 2}')\n"
   ]
  },
  {
   "cell_type": "code",
   "execution_count": 9,
   "id": "73690974",
   "metadata": {},
   "outputs": [
    {
     "name": "stdout",
     "output_type": "stream",
     "text": [
      "True\n",
      "False\n",
      "False\n",
      "True\n"
     ]
    }
   ],
   "source": [
    "# Q9\n",
    "# What is the output of expression inside print statement. Cross check\n",
    "# before running the program.\n",
    "\n",
    "a = 10\n",
    "b = 10\n",
    "print(a is b) #True or False? # it will True\n",
    "print(a is not b) #True or False? # it will False\n",
    "\n",
    "a = 1000\n",
    "b = 1000\n",
    "print(a is b) #True or False? # it will False since int range is not -5 to 256\n",
    "print(a is not b) #True or False? # it will True since int range is not -5 to 256"
   ]
  },
  {
   "cell_type": "code",
   "execution_count": 29,
   "id": "78c0bc06",
   "metadata": {},
   "outputs": [
    {
     "name": "stdout",
     "output_type": "stream",
     "text": [
      "20\n"
     ]
    }
   ],
   "source": [
    "# Q10\n",
    "# What is the output of expression inside print statement.\n",
    "print(10+(10*32)//2**5&20+(~(-10))<<2)\n"
   ]
  },
  {
   "cell_type": "code",
   "execution_count": 30,
   "id": "3b9d81af",
   "metadata": {},
   "outputs": [
    {
     "name": "stdout",
     "output_type": "stream",
     "text": [
      "True\n",
      "True\n",
      "True\n",
      "True\n",
      "True\n",
      "True\n"
     ]
    }
   ],
   "source": [
    "# Q11\n",
    "# Membership operation\n",
    "# in, not in are two membership operators and it returns boolean value\n",
    "print('2' in 'Python2.7.8')\n",
    "print(10 in [10,10.20,10+20j,'Python'])\n",
    "print(10 in (10,10.20,10+20j,'Python'))\n",
    "print(2 in {1,2,3})\n",
    "print(3 in {1:100, 2:200, 3:300})\n",
    "print(10 in range(20))"
   ]
  },
  {
   "cell_type": "code",
   "execution_count": 38,
   "id": "bb583c2c",
   "metadata": {},
   "outputs": [
    {
     "name": "stdout",
     "output_type": "stream",
     "text": [
      "convert from bin to dec 86\n",
      "convert from oct to dec 1013\n",
      "convert from hex to dec 703557\n",
      "dec 9876 oct value is 0o23224\n",
      "dec 9876 hex value is 0x2694\n",
      "dec 9876 bin value is 0b10011010010100\n"
     ]
    }
   ],
   "source": [
    "# Q12\n",
    "# An integer can be represented in binary, octal or hexadecimal form.\n",
    "# Declare one binary, one octal and one hexadecimal value and store them\n",
    "# in three different variables.\n",
    "hex_val = 0xabc45;\n",
    "oct_val = 0o1765;\n",
    "bin_val = 0b1010111;\n",
    "print(f'convert from bin to dec {int(0b1010110)}')\n",
    "print(f'convert from oct to dec {int(0o1765)}')\n",
    "print(f'convert from hex to dec {int(0xabc45)}')\n",
    "\n",
    "# Convert 9876 to its binary, octal and hexadecimal equivalent and print\n",
    "# their corresponding value.\n",
    "dec_val = 9876\n",
    "print(f'dec 9876 oct value is {oct(9876)}')\n",
    "print(f'dec 9876 hex value is {hex(9876)}')\n",
    "print(f'dec 9876 bin value is {bin(9876)}')"
   ]
  },
  {
   "cell_type": "code",
   "execution_count": 40,
   "id": "2cf3dfdc",
   "metadata": {},
   "outputs": [
    {
     "name": "stdout",
     "output_type": "stream",
     "text": [
      "80\n",
      "3870\n",
      "64222\n",
      "0b1010000\n",
      "0o7436\n",
      "0xfade\n",
      "0b1010000\n",
      "0b1111101011011110\n",
      "0o175336\n",
      "0o7436\n",
      "0x50\n",
      "0xfade\n"
     ]
    }
   ],
   "source": [
    "# Q13\n",
    "# What will be the output of following:-\n",
    "a = 0b1010000\n",
    "print(a)\n",
    "b = 0o7436\n",
    "print(b)\n",
    "c = 0xfade\n",
    "print(c)\n",
    "print(bin(80))\n",
    "\n",
    "print(oct(3870))\n",
    "print(hex(64222))\n",
    "print(bin(0b1010000))\n",
    "print(bin(0xfade))\n",
    "print(oct(0xfade))\n",
    "print(oct(0o7436))\n",
    "print(hex(0b1010000))\n",
    "print(hex(0xfade))"
   ]
  },
  {
   "cell_type": "code",
   "execution_count": null,
   "id": "b0ed80d9",
   "metadata": {},
   "outputs": [],
   "source": []
  }
 ],
 "metadata": {
  "kernelspec": {
   "display_name": "Python 3",
   "language": "python",
   "name": "python3"
  },
  "language_info": {
   "codemirror_mode": {
    "name": "ipython",
    "version": 3
   },
   "file_extension": ".py",
   "mimetype": "text/x-python",
   "name": "python",
   "nbconvert_exporter": "python",
   "pygments_lexer": "ipython3",
   "version": "3.8.8"
  }
 },
 "nbformat": 4,
 "nbformat_minor": 5
}
