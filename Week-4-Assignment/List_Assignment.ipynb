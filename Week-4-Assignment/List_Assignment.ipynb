{
 "cells": [
  {
   "cell_type": "code",
   "execution_count": 2,
   "metadata": {
    "id": "gtlAv2oq9yzd"
   },
   "outputs": [
    {
     "name": "stdout",
     "output_type": "stream",
     "text": [
      "100\n"
     ]
    }
   ],
   "source": [
    "#Write a Python program to find the sum of all elements in a list using loop.\n",
    "#Input:- [10,20,30,40]\n",
    "#Output:- 100\n",
    "lst = [10,20,30,40]\n",
    "addition = 0;\n",
    "for i in lst:\n",
    "    addition +=i;\n",
    "print(addition)"
   ]
  },
  {
   "cell_type": "code",
   "execution_count": 3,
   "metadata": {
    "id": "gTbA8psa93Y_"
   },
   "outputs": [
    {
     "name": "stdout",
     "output_type": "stream",
     "text": [
      "240000\n"
     ]
    }
   ],
   "source": [
    "#Write a Python program to find the multiplication of all elements in a list using loop.\n",
    "#Input:- [10,20,30,40]\n",
    "#Output:- 240000\n",
    "lst = [10,20,30,40]\n",
    "mult = 1;\n",
    "for i in lst:\n",
    "    mult *=i;\n",
    "print(mult)"
   ]
  },
  {
   "cell_type": "code",
   "execution_count": 9,
   "metadata": {
    "id": "XBCrEtLN94Lj"
   },
   "outputs": [
    {
     "name": "stdout",
     "output_type": "stream",
     "text": [
      "2321\n"
     ]
    }
   ],
   "source": [
    "#Write a Python program to find the largest number from a list using loop.\n",
    "#Input:- [10,100,2321, 1,200,2]\n",
    "#Output:- 2321\n",
    "lst = [10,100,2321, 1,200,2]\n",
    "maxNumber = lst[0];\n",
    "for i in lst:\n",
    "    if (i > maxNumber):\n",
    "        maxNumber = i\n",
    "print(maxNumber)"
   ]
  },
  {
   "cell_type": "code",
   "execution_count": 14,
   "metadata": {
    "id": "l3paUtbH94Vw"
   },
   "outputs": [
    {
     "name": "stdout",
     "output_type": "stream",
     "text": [
      "1\n"
     ]
    }
   ],
   "source": [
    "#Write a Python program to find the smallest number from a list using loop.\n",
    "#Input:- [10,100,2321, 1,200,2]\n",
    "#Output:- 1\n",
    "lst = [10,100,2321, 1,200,2]\n",
    "minNumber = lst[0];\n",
    "for i in lst:\n",
    "    if (i < minNumber):\n",
    "        minNumber = i\n",
    "print(minNumber)"
   ]
  },
  {
   "cell_type": "code",
   "execution_count": 21,
   "metadata": {
    "id": "JTVgy5VD94cE"
   },
   "outputs": [
    {
     "name": "stdout",
     "output_type": "stream",
     "text": [
      "2\n"
     ]
    }
   ],
   "source": [
    "#Write a Python program to count the number of strings having length more than 2 and are palindrome in a list using loop.\n",
    "#Input:- ['ab', 'abc', 'aba', 'xyz', '1991']\n",
    "#Output:- 2\n",
    "\n",
    "lst = ['ab', 'abc', 'aba', 'xyz', '1991']\n",
    "count = 0;\n",
    "for i in lst:\n",
    "    if (len(i) > 2 and (i == i[::-1])):\n",
    "        count +=1\n",
    "print(count)"
   ]
  },
  {
   "cell_type": "code",
   "execution_count": 21,
   "metadata": {
    "id": "xs-ZGJbJ94gr"
   },
   "outputs": [
    {
     "name": "stdout",
     "output_type": "stream",
     "text": [
      "[1, 2, 9, 10, 65, 80, 100, 298, 483, 9213, 49876]\n"
     ]
    }
   ],
   "source": [
    "#Write a Python program to sort a list in ascending order using loop.\n",
    "#Input:- [100,10,1,298,65,483,49876,2,80,9,9213]\n",
    "#Output:- [1,2,9,10,65,80,100,298,483,9213,49876]\n",
    "inputLst = [100,10,1,298,65,483,49876,2,80,9,9213]\n",
    "for i in range(0, len(inputLst), 1):\n",
    "#     First pass will send the biggest element at last... Second pass will send the second element at last etc.\n",
    "#     But in this method may be list is sorted in one or two pass but it will run for all the iterations. \n",
    "    for j in range(0, len(inputLst)-i-1, 1):\n",
    "        if(inputLst[j] > inputLst[j+1]):\n",
    "            inputLst[j+1], inputLst[j] = inputLst[j], inputLst[j+1]    \n",
    "print(inputLst)"
   ]
  },
  {
   "cell_type": "code",
   "execution_count": 22,
   "metadata": {
    "id": "VhKQJizZ94kg"
   },
   "outputs": [
    {
     "name": "stdout",
     "output_type": "stream",
     "text": [
      "[(9, 1), (2, 3), (5, 4), (5, 5), (7, 6), (5, 9)]\n"
     ]
    }
   ],
   "source": [
    "#Write a Python program to get a sorted list in increasing order of last element in each tuple in a given list using loop.\n",
    "#Input:- [(5,4),(9,1),(2,3),(5,9),(7,6),(5,5)]\n",
    "#output:- [(9,1),(2,3),(5,4),(5,5),(7,6),(5,9)]\n",
    "inputList = [(5,4),(9,1),(2,3),(5,9),(7,6),(5,5)]\n",
    "for i in range(len(inputList)):\n",
    "    for j in range(len(inputList)-i-1):\n",
    "        tupple1= inputList[j]\n",
    "        tupple2 = inputList[j+1]\n",
    "        if (tupple1[len(tupple1)-1] > tupple2[len(tupple2)-1]):\n",
    "            inputList[j], inputList[j+1] = inputList[j+1], inputList[j]\n",
    "print(inputList)"
   ]
  },
  {
   "cell_type": "code",
   "execution_count": 9,
   "metadata": {
    "id": "YJrCLYp694n_"
   },
   "outputs": [
    {
     "name": "stdout",
     "output_type": "stream",
     "text": [
      "[10, 1, 11, 29, 876, 768, 92]\n",
      "[10, 1, 11, 29, 876, 768, 92]\n"
     ]
    }
   ],
   "source": [
    "#Write a Python program to remove fuplicate element from a list using loop.\n",
    "#Input:- [10,1,11,1,29,876,768,10,11,1,92,29,876]\n",
    "#Output:- [10,1,11,29,876,768,92]\n",
    "inputList = [10,1,11,1,29,876,768,10,11,1,92,29,876]\n",
    "lst_dict = {i : 0 for i in inputList}\n",
    "print(list(lst_dict.keys()))\n",
    "\n",
    "# Or\n",
    "outputList = []\n",
    "for i in range(len(inputList)):\n",
    "    if(len(outputList) <= 0):\n",
    "        outputList.append(inputList[i])\n",
    "    for j in range(len(outputList)):\n",
    "        if (outputList.count(inputList[i]) <= 0):\n",
    "            outputList.append(inputList[i])\n",
    "print(outputList)"
   ]
  },
  {
   "cell_type": "code",
   "execution_count": 26,
   "metadata": {
    "id": "koYe4YCu94rh"
   },
   "outputs": [
    {
     "name": "stdout",
     "output_type": "stream",
     "text": [
      "List is empty\n"
     ]
    }
   ],
   "source": [
    "#Write a Python program to check a list is empty or not?\n",
    "#Input:- []\n",
    "#Output:- List is empty\n",
    "#Input:- [10,20,30]\n",
    "#Output:- List is not empty\n",
    "inputList = []\n",
    "lstLength = 0\n",
    "for i in range(len(inputList)):\n",
    "    lstLength +=1\n",
    "if (lstLength <= 0):\n",
    "    print('List is empty')\n",
    "else:\n",
    "    print('List is not empty')"
   ]
  },
  {
   "cell_type": "code",
   "execution_count": 30,
   "metadata": {
    "id": "mES1WANa94u5"
   },
   "outputs": [
    {
     "name": "stdout",
     "output_type": "stream",
     "text": [
      "[10, 10.2, (10+20j), 'Python', [10, 20], (10, 20)]\n",
      "[10, 10.2, (10+20j), 'Python', [10, 20], (10, 20)]\n"
     ]
    }
   ],
   "source": [
    "#Write a Python program to copy a list using loop.\n",
    "#inp_lst = [10,10.20,10+20j, 'Python', [10,20], (10,20)]\n",
    "#out_lst = [10,10.20,10+20j, 'Python', [10,20], (10,20)]\n",
    "inp_lst = [10,10.20,10+20j, 'Python', [10,20], (10,20)]\n",
    "out_lst = []\n",
    "for i in inp_lst:\n",
    "    out_lst.append(i)\n",
    "print(out_lst)\n",
    "# Or \n",
    "out_lst = inp_lst.copy()\n",
    "print(out_lst)"
   ]
  },
  {
   "cell_type": "code",
   "execution_count": 10,
   "metadata": {
    "id": "CpBh31WO94yi"
   },
   "outputs": [
    {
     "name": "stdout",
     "output_type": "stream",
     "text": [
      "['much', 'wood', 'would', 'woodchuck', 'chuck', 'could']\n"
     ]
    }
   ],
   "source": [
    "#Write a Python program to find the list of words that are longer than or equal to 4 from a given string.\n",
    "#Input:- 'How much wood would a woodchuck chuck if a woodchuck could chuck wood'\n",
    "#Output:- ['much', 'wood', 'would', 'woodchuck', 'chuck', 'could']\n",
    "#Note:- Duplicate should be avoided.\n",
    "input_str = 'How much wood would a woodchuck chuck if a woodchuck could chuck wood'\n",
    "input_lst = input_str.split()\n",
    "output_lst = []\n",
    "for i in input_lst:\n",
    "    if (len(i) >= 4 and output_lst.count(i) <= 0):\n",
    "        output_lst.append(i)\n",
    "print(output_lst)\n"
   ]
  },
  {
   "cell_type": "code",
   "execution_count": 12,
   "metadata": {
    "id": "YVfj0fgZ9416"
   },
   "outputs": [
    {
     "name": "stdout",
     "output_type": "stream",
     "text": [
      "Enter list 1: [(10,20,30),1,20+3j,100.2, 10+20j, [10,20,30],'Python']\n",
      "Enter list 2: []\n",
      "False\n"
     ]
    }
   ],
   "source": [
    "#Write a Python program which takes two list as input and returns True if they have at least 3 common elements.\n",
    "#inp_lst1 = [10,20,'Python', 10.20, 10+20j, [10,20,30], (10,20,30)]\n",
    "#inp_lst2 = [(10,20,30),1,20+3j,100.2, 10+20j, [10,20,30],'Python']\n",
    "#Output:- True\n",
    "input_lst1 = eval (input('Enter list 1: '))\n",
    "input_lst2 = eval (input('Enter list 2: '))\n",
    "\n",
    "def commonElementsCount(list1, list2):\n",
    "    common_element_count = 0\n",
    "    for i in list1:\n",
    "        if (list2.count(i) > 0):\n",
    "            common_element_count +=1\n",
    "            if (common_element_count == 3):\n",
    "                return True\n",
    "    else:\n",
    "        return False\n",
    "print(commonElementsCount(input_lst1, input_lst2))\n"
   ]
  },
  {
   "cell_type": "code",
   "execution_count": 106,
   "metadata": {
    "id": "7vwc3pjR945O"
   },
   "outputs": [
    {
     "name": "stdout",
     "output_type": "stream",
     "text": [
      "[[0, 0, 0, 0], [0, 1, 2, 3], [0, 2, 4, 6], [0, 3, 6, 9]]\n",
      "[[0, 0, 0, 0], [0, 1, 2, 3], [0, 2, 4, 6], [0, 3, 6, 9]]\n"
     ]
    }
   ],
   "source": [
    "#Write a Python program to create a 4X4 2D matrix with below elements using loop and list comprehension both.\n",
    "#Output:- [[0,0,0,0],[0,1,2,3],[0,2,4,6],[0,3,6,9]]\n",
    "# mat = [[0]*4]*4\n",
    "output_map = []\n",
    "for j in range(4):\n",
    "    b = [i*j for i in range(4)]\n",
    "    output_map.append(b)\n",
    "print(output_map)\n",
    "\n",
    "# Or\n",
    "print([[i*j for i in range(4)] for j in range(4)])"
   ]
  },
  {
   "cell_type": "code",
   "execution_count": 107,
   "metadata": {
    "id": "Pxafor84948b"
   },
   "outputs": [
    {
     "name": "stdout",
     "output_type": "stream",
     "text": [
      "[[[0, 0, 0, 0, 0, 0], [0, 0, 0, 0, 0, 0], [0, 0, 0, 0, 0, 0], [0, 0, 0, 0, 0, 0]], [[0, 0, 0, 0, 0, 0], [1, 1, 1, 1, 1, 1], [2, 2, 2, 2, 2, 2], [3, 3, 3, 3, 3, 3]], [[0, 0, 0, 0, 0, 0], [2, 2, 2, 2, 2, 2], [4, 4, 4, 4, 4, 4], [6, 6, 6, 6, 6, 6]]]\n"
     ]
    }
   ],
   "source": [
    "#Write a Python program to create a 3X4X6 3D matrix wiith below elements using loop\n",
    "#Output:- \n",
    "# [\n",
    "#     [[0,0,0,0,0,0],[0,0,0,0,0,0],[0,0,0,0,0,0],[0,0,0,0,0,0]],\n",
    "#     [[0,0,0,0,0,0],[1,1,1,1,1,1],[2,2,2,2,2,2],[3,3,3,3,3,3]],\n",
    "#     [[0,0,0,0,0,0],[2,2,2,2,2,2],[4,4,4,4,4,4],[6,6,6,6,6,6]]\n",
    "# ]\n",
    "# mat = [[[0]*6]*4]*3\n",
    "# print(mat)\n",
    "\n",
    "print([[[j*k for i in range(6)] for j in range(4)] for k in range(3)])\n"
   ]
  },
  {
   "cell_type": "code",
   "execution_count": 2,
   "metadata": {
    "id": "lYNv8gk794_p"
   },
   "outputs": [
    {
     "name": "stdout",
     "output_type": "stream",
     "text": [
      "Enter list: [10,21,22,98,87,45,33,1,2,100]\n",
      "[21, 87, 45, 33, 1]\n"
     ]
    }
   ],
   "source": [
    "#Write a Python program which takes a list of numbers as input and prints a new list after removing even numbers from it.\n",
    "#Input:- [10,21,22,98,87,45,33,1,2,100]\n",
    "#Output:- [21,87,45,33,1]\n",
    "input_lst = eval(input('Enter list: '))\n",
    "# Input = [10,21,22,98,87,45,33,1,2,100]\n",
    "print([i for i in input_lst if i%2!=0])\n"
   ]
  },
  {
   "cell_type": "code",
   "execution_count": 4,
   "metadata": {
    "id": "3BaCb-rB95B7"
   },
   "outputs": [
    {
     "name": "stdout",
     "output_type": "stream",
     "text": [
      "Enter list: [10,21,22,98,87,45,33,1,2,100]\n",
      "[33, 1, 21, 22, 2, 10, 100, 87, 45, 98]\n"
     ]
    }
   ],
   "source": [
    "#Write a Python program which takes a list from the user and prints it after reshuffling the elements of the list.\n",
    "#Input:- [10,21,22,98,87,45,33,1,2,100]\n",
    "#Output:- [1,87,21,10,33,2,100,45,98,22] (It may be any randon list but with same elements)\n",
    "import random\n",
    "input_lst = eval(input('Enter list: '))\n",
    "output_list = []\n",
    "while (len(input_lst) > 0):\n",
    "    rand_number = random.randint(0,len(input_lst)-1);\n",
    "    output_list.append(input_lst.pop(rand_number))     \n",
    "print(output_list)\n"
   ]
  },
  {
   "cell_type": "code",
   "execution_count": null,
   "metadata": {},
   "outputs": [],
   "source": []
  }
 ],
 "metadata": {
  "colab": {
   "name": "List_Assignment.ipynb",
   "provenance": []
  },
  "kernelspec": {
   "display_name": "Python 3",
   "language": "python",
   "name": "python3"
  },
  "language_info": {
   "codemirror_mode": {
    "name": "ipython",
    "version": 3
   },
   "file_extension": ".py",
   "mimetype": "text/x-python",
   "name": "python",
   "nbconvert_exporter": "python",
   "pygments_lexer": "ipython3",
   "version": "3.8.8"
  }
 },
 "nbformat": 4,
 "nbformat_minor": 1
}
